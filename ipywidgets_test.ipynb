{
 "cells": [
  {
   "cell_type": "code",
   "execution_count": null,
   "metadata": {},
   "outputs": [],
   "source": [
    "import ipywidgets as widgets\n",
    "\n",
    "# Create a slider widget\n",
    "slider = widgets.IntSlider(\n",
    "    value=7, \n",
    "    min=0, \n",
    "    max=10, \n",
    "    step=1, \n",
    "    description='Test Slider:',\n",
    "    continuous_update=False\n",
    ")\n",
    "\n",
    "# Display the slider\n",
    "slider"
   ]
  },
  {
   "cell_type": "code",
   "execution_count": null,
   "metadata": {},
   "outputs": [],
   "source": [
    "\n",
    "# Access the value of the slider\n",
    "current_value = slider.value\n",
    "print(\"Current value of the slider is:\", current_value)\n",
    "\n"
   ]
  },
  {
   "cell_type": "code",
   "execution_count": null,
   "metadata": {},
   "outputs": [],
   "source": [
    "import pandas as pd\n",
    "\n",
    "# Sample DataFrame 1\n",
    "df1 = pd.DataFrame({\n",
    "    'Category': ['Fruits', 'Vegetables', 'Beverages']\n",
    "})\n",
    "\n",
    "# Sample DataFrame 2\n",
    "df2 = pd.DataFrame({\n",
    "    'Category': ['Fruits', 'Fruits', 'Vegetables', 'Vegetables', 'Beverages', 'Beverages'],\n",
    "    'Item': ['Apple', 'Banana', 'Carrot', 'Broccoli', 'Tea', 'Coffee']\n",
    "})"
   ]
  },
  {
   "cell_type": "code",
   "execution_count": null,
   "metadata": {},
   "outputs": [],
   "source": [
    "\n",
    "\n",
    "import ipywidgets as widgets\n",
    "from IPython.display import display\n",
    "\n",
    "# Create the first dropdown from df1\n",
    "dropdown1 = widgets.Dropdown(\n",
    "    options=df1['Category'].unique(),\n",
    "    description='Category:',\n",
    ")\n",
    "\n",
    "# Create the second dropdown\n",
    "dropdown2 = widgets.Dropdown(\n",
    "    description='Item:',\n",
    ")\n",
    "\n",
    "# Function to update the second dropdown based on the first dropdown\n",
    "def update_dropdown2(*args):\n",
    "    filtered_df = df2[df2['Category'] == dropdown1.value]\n",
    "    dropdown2.options = filtered_df['Item'].unique()\n",
    "\n",
    "# Call the update function when the value of the first dropdown changes\n",
    "dropdown1.observe(update_dropdown2, 'value')\n",
    "\n",
    "# Initialize the second dropdown\n",
    "update_dropdown2()\n",
    "\n",
    "# Display the dropdowns\n",
    "display(dropdown1, dropdown2)\n"
   ]
  },
  {
   "cell_type": "code",
   "execution_count": null,
   "metadata": {},
   "outputs": [],
   "source": [
    "# Access the values of the dropdowns\n",
    "selected_category = dropdown1.value\n",
    "selected_item = dropdown2.value\n",
    "\n",
    "print(f\"Selected category: {selected_category}\")\n",
    "print(f\"Selected item: {selected_item}\")\n"
   ]
  }
 ],
 "metadata": {
  "language_info": {
   "name": "python"
  }
 },
 "nbformat": 4,
 "nbformat_minor": 2
}
